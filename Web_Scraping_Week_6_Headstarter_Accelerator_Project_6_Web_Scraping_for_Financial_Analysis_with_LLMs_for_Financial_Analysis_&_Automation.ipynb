{
  "nbformat": 4,
  "nbformat_minor": 0,
  "metadata": {
    "colab": {
      "provenance": [],
      "authorship_tag": "ABX9TyNNOX5ZNu6O049Iq7d1gbn+",
      "include_colab_link": true
    },
    "kernelspec": {
      "name": "python3",
      "display_name": "Python 3"
    },
    "language_info": {
      "name": "python"
    }
  },
  "cells": [
    {
      "cell_type": "markdown",
      "metadata": {
        "id": "view-in-github",
        "colab_type": "text"
      },
      "source": [
        "<a href=\"https://colab.research.google.com/github/AslauAlexandru/Week-6-Headstarter-Accelerator-Project-6-Web-app-for-RAG-Financial-Analysis-and-Automation/blob/main/Web_Scraping_Week_6_Headstarter_Accelerator_Project_6_Web_Scraping_for_Financial_Analysis_with_LLMs_for_Financial_Analysis_%26_Automation.ipynb\" target=\"_parent\"><img src=\"https://colab.research.google.com/assets/colab-badge.svg\" alt=\"Open In Colab\"/></a>"
      ]
    },
    {
      "cell_type": "markdown",
      "source": [
        "# Web Scraping for Financial Analysis with LLMs for Market Firehose"
      ],
      "metadata": {
        "id": "qISJaXwzbklj"
      }
    },
    {
      "cell_type": "markdown",
      "source": [
        "You can check this link: https://www.loom.com/share/bf5e0636515948fab21839d3bb4899c0"
      ],
      "metadata": {
        "id": "NzLcRE5MbtDD"
      }
    },
    {
      "cell_type": "code",
      "execution_count": null,
      "metadata": {
        "id": "U-T0sB8sX-PZ"
      },
      "outputs": [],
      "source": [
        "import requests\n",
        "from bs4 import BeautifulSoup\n",
        "import os\n",
        "import openai\n",
        "from google.colab import userdata\n",
        "import httpx\n",
        "\n",
        "client = openai.OpenAI(\n",
        "    base_url=\"https://api.groq.com/openai/v1\",\n",
        "    api_key=userdata.get(\"GROQ_API_KEY\"),\n",
        "    http_client=httpx.Client()\n",
        ")"
      ]
    },
    {
      "cell_type": "code",
      "source": [
        "# Making a GET request\n",
        "r = requests.get('https://www.theatlantic.com/science/archive/2024/12/elon-musk-jared-isaacman-nasa/680884/')\n",
        "\n",
        "# Parsing the HTML\n",
        "soup = BeautifulSoup(r.content, 'html.parser')\n",
        "\n",
        "# Find the content section\n",
        "s = soup.find('div', class_='entry-content')\n",
        "\n",
        "# Extract paragraphs from the content section\n",
        "content = soup.find_all('p')\n",
        "\n",
        "print(content)"
      ],
      "metadata": {
        "colab": {
          "base_uri": "https://localhost:8080/"
        },
        "id": "-nhMpBmmYAuV",
        "outputId": "0ad782b7-d08f-48fe-a010-f682d2f38641"
      },
      "execution_count": null,
      "outputs": [
        {
          "output_type": "stream",
          "name": "stdout",
          "text": [
            "[<p class=\"ArticleDek_root__P3leE\">Another billionaire space enthusiast could make his way into the Trump administration.</p>, <p class=\"ArticleParagraph_root__4mszW\" data-flatplan-paragraph=\"true\">Yesterday, President-Elect Donald Trump <a data-event-element=\"inline link\" href=\"https://truthsocial.com/@realDonaldTrump/posts/113595378122687080\">announced</a> his nomination of Jared Isaacman, a 41-year-old entrepreneur, private astronaut, and pilot, as the head of NASA. The statement that went out was pretty bland. It included stock phrases—“delighted to”; “paving the way”; “demonstrated exceptional leadership”—of the type that corporations use when elevating middle managers. Reading it, I wondered whether Trump’s heart is really in this selection of a billionaire with a <a data-event-element=\"inline link\" href=\"https://www.influencewatch.org/person/jared-isaacman/\">history of supporting</a> Democratic candidates and committees.</p>, <p class=\"ArticleParagraph_root__4mszW\" data-flatplan-paragraph=\"true\">Maybe this was Elon Musk’s decision. Isaacman is a pal and an extreme admirer of Musk’s. “I generally try not to bother the guy,” Isaacman <a data-event-element=\"inline link\" href=\"https://www.youtube.com/watch?v=9Kn2zg5Ub04&amp;t=11s\">has said</a>, when asked about their relationship. “He’s literally thinking all the time about solving the world’s problems.” In some ways, Isaacman is Musk’s Mini-Me. Both men made their fortune, in part, from payment-processing companies. Both used their wealth to pursue their boyhood dreams of spaceflight: Musk created SpaceX; Isaacman began in the lower atmosphere, by buying up the world’s largest commercial fleet of ex-military aircraft. In 2021, Isaacman treated himself to an entire SpaceX mission, which allowed him to see the Earth from space. Earlier this year, he again hired SpaceX to fire him into orbit to conduct <a data-event-element=\"inline link\" href=\"https://www.theatlantic.com/science/archive/2024/09/spacex-spacewalk-isaacman-polaris-dawn/679767/\">the first private spacewalk</a>.</p>, <p class=\"ArticleParagraph_root__4mszW\" data-flatplan-paragraph=\"true\">If Isaacman is confirmed by the Senate and takes the reins at NASA, he will have leveled up from being a small, albeit highly visible, purchaser of SpaceX’s services to the company’s largest customer. For more than a decade, NASA has been developing a costly one-and-done rocket system that can launch humans to distant destinations beyond lower Earth orbit. SpaceX recently leapfrogged the agency with the Starship system, which is meant to be not only fully reusable, but also more functional once in space. With Isaacman in charge at NASA, the agency’s inferior homegrown rocket may be more likely to get <a data-event-element=\"inline link\" href=\"https://x.com/SciGuySpace/status/1856522880143745133\">killed off</a>, once and for all—which means that more federal dollars may soon be flowing into SpaceX’s coffers.</p>, <p class=\"ArticleRelatedContentLink_root__VYc9V\" data-event-element=\"injected link\" data-event-position=\"1\" data-view-action=\"view link - injected link - item 1\" id=\"injected-recirculation-link-0\"><a href=\"https://www.theatlantic.com/science/archive/2024/09/spacex-spacewalk-isaacman-polaris-dawn/679767/\">Read: The scariest spacewalk in 50 years</a></p>, <p class=\"ArticleParagraph_root__4mszW\" data-flatplan-paragraph=\"true\">Yesterday, after the nomination was announced, I reached out to John Grunsfeld, who served as NASA’s chief scientist during the George W. Bush administration, and later led the agency’s science directorate under Barack Obama. Grunsfeld has been critical of Isaacman in the past. In 2022, Isaacman began to lobby for a private mission—presumably with himself in command—to service the Hubble Space Telescope, thereby extending its life. Grunsfeld, a former astronaut who was the principal repairman on three of NASA’s previous Hubble-servicing missions, was part of the group who reviewed Isaacman’s proposal. Like others at the agency, he <a data-event-element=\"inline link\" href=\"https://www.npr.org/2024/05/16/1250250249/spacex-repair-hubble-space-telescope-nasa-foia\">found it</a> too risky, and perhaps premature.</p>, <p class=\"ArticleParagraph_root__4mszW\" data-flatplan-paragraph=\"true\">Despite those concerns, Grunsfeld told me he was optimistic about the nomination. “For the last 10 years, NASA’s science missions keep getting raided to pay for overruns in the human-spaceflight program,” he said. The fact that Isaacman was so interested in extending Hubble’s lifespan struck Grunsfeld as a good sign for future science missions at the agency. He did note that Isaacman seems to have no experience managing an organization with a $25 billion budget and 18,000 employees, but when I pointed out that politicians with even less management experience had successfully run NASA in very recent memory, Grunsfeld agreed. “The pick could have been a lot worse,” he said.</p>, <p class=\"ArticleParagraph_root__4mszW\" data-flatplan-paragraph=\"true\">If Isaacman does end up in government, he will need to drive NASA hard if he wants to keep his new boss happy. Trump has <a data-event-element=\"inline link\" href=\"https://www.bbc.com/news/world-us-canada-48842428\">a fetish</a> for nationalist spectacle. During his first term, he vowed to return Americans to the moon. The expected date of this triumph has been <a data-event-element=\"inline link\" href=\"https://www.nasa.gov/general/faq-nasas-artemis-campaign-and-recent-updates/\">pushed back</a> several times, but Trump will no doubt want to see it happen while he’s still in office, especially now that China is gearing up for its own lunar missions.</p>, <p class=\"ArticleParagraph_root__4mszW\" data-flatplan-paragraph=\"true\">If confirmed, Isaacman would have to balance this new space race against NASA’s other priorities, including its climate-science program. Trump previously tried to deprioritize the sort of missions that would monitor glacial melt and sea-level rise, but he was largely foiled by Congress. Isaacman’s views on climate change remain somewhat <a data-event-element=\"inline link\" href=\"https://www.eenews.net/articles/what-trumps-moderate-nasa-pick-means-for-climate-science/\">mysterious</a>, and so we will have to wait to learn his inclinations, and whether those inclinations even matter much if he’s working in service of a denialist president.</p>, <p class=\"ArticleParagraph_root__4mszW\" data-flatplan-paragraph=\"true\">The most delicate task before Isaacman might be to figure out exactly whom he answers to, especially if Trump and Musk have a falling out at some future date. Isaacman clearly wants to be part of the larger enterprise of space exploration for a long time to come, but Trump is scheduled to be in office only until 2029. Musk doesn’t have term limits; he will likely be the largest provider of launch services long after that. If anything, this pick only confirms that Musk, rather than any government official, is now the big boss in space. Isaacman will know that going in.</p>, <p class=\"ArticleBio_contentHeading__cmbmT\">More Stories</p>, <p>When a Telescope Is a National-Security Risk</p>, <p>On Election Night, Stare Into the Abyss</p>]\n"
          ]
        }
      ]
    },
    {
      "cell_type": "code",
      "source": [
        "content"
      ],
      "metadata": {
        "colab": {
          "base_uri": "https://localhost:8080/"
        },
        "id": "ZaoSQp7nYAw0",
        "outputId": "10000e82-3e0f-443e-f0f2-20df862faee6"
      },
      "execution_count": null,
      "outputs": [
        {
          "output_type": "execute_result",
          "data": {
            "text/plain": [
              "[<p class=\"ArticleDek_root__P3leE\">Another billionaire space enthusiast could make his way into the Trump administration.</p>,\n",
              " <p class=\"ArticleParagraph_root__4mszW\" data-flatplan-paragraph=\"true\">Yesterday, President-Elect Donald Trump <a data-event-element=\"inline link\" href=\"https://truthsocial.com/@realDonaldTrump/posts/113595378122687080\">announced</a> his nomination of Jared Isaacman, a 41-year-old entrepreneur, private astronaut, and pilot, as the head of NASA. The statement that went out was pretty bland. It included stock phrases—“delighted to”; “paving the way”; “demonstrated exceptional leadership”—of the type that corporations use when elevating middle managers. Reading it, I wondered whether Trump’s heart is really in this selection of a billionaire with a <a data-event-element=\"inline link\" href=\"https://www.influencewatch.org/person/jared-isaacman/\">history of supporting</a> Democratic candidates and committees.</p>,\n",
              " <p class=\"ArticleParagraph_root__4mszW\" data-flatplan-paragraph=\"true\">Maybe this was Elon Musk’s decision. Isaacman is a pal and an extreme admirer of Musk’s. “I generally try not to bother the guy,” Isaacman <a data-event-element=\"inline link\" href=\"https://www.youtube.com/watch?v=9Kn2zg5Ub04&amp;t=11s\">has said</a>, when asked about their relationship. “He’s literally thinking all the time about solving the world’s problems.” In some ways, Isaacman is Musk’s Mini-Me. Both men made their fortune, in part, from payment-processing companies. Both used their wealth to pursue their boyhood dreams of spaceflight: Musk created SpaceX; Isaacman began in the lower atmosphere, by buying up the world’s largest commercial fleet of ex-military aircraft. In 2021, Isaacman treated himself to an entire SpaceX mission, which allowed him to see the Earth from space. Earlier this year, he again hired SpaceX to fire him into orbit to conduct <a data-event-element=\"inline link\" href=\"https://www.theatlantic.com/science/archive/2024/09/spacex-spacewalk-isaacman-polaris-dawn/679767/\">the first private spacewalk</a>.</p>,\n",
              " <p class=\"ArticleParagraph_root__4mszW\" data-flatplan-paragraph=\"true\">If Isaacman is confirmed by the Senate and takes the reins at NASA, he will have leveled up from being a small, albeit highly visible, purchaser of SpaceX’s services to the company’s largest customer. For more than a decade, NASA has been developing a costly one-and-done rocket system that can launch humans to distant destinations beyond lower Earth orbit. SpaceX recently leapfrogged the agency with the Starship system, which is meant to be not only fully reusable, but also more functional once in space. With Isaacman in charge at NASA, the agency’s inferior homegrown rocket may be more likely to get <a data-event-element=\"inline link\" href=\"https://x.com/SciGuySpace/status/1856522880143745133\">killed off</a>, once and for all—which means that more federal dollars may soon be flowing into SpaceX’s coffers.</p>,\n",
              " <p class=\"ArticleRelatedContentLink_root__VYc9V\" data-event-element=\"injected link\" data-event-position=\"1\" data-view-action=\"view link - injected link - item 1\" id=\"injected-recirculation-link-0\"><a href=\"https://www.theatlantic.com/science/archive/2024/09/spacex-spacewalk-isaacman-polaris-dawn/679767/\">Read: The scariest spacewalk in 50 years</a></p>,\n",
              " <p class=\"ArticleParagraph_root__4mszW\" data-flatplan-paragraph=\"true\">Yesterday, after the nomination was announced, I reached out to John Grunsfeld, who served as NASA’s chief scientist during the George W. Bush administration, and later led the agency’s science directorate under Barack Obama. Grunsfeld has been critical of Isaacman in the past. In 2022, Isaacman began to lobby for a private mission—presumably with himself in command—to service the Hubble Space Telescope, thereby extending its life. Grunsfeld, a former astronaut who was the principal repairman on three of NASA’s previous Hubble-servicing missions, was part of the group who reviewed Isaacman’s proposal. Like others at the agency, he <a data-event-element=\"inline link\" href=\"https://www.npr.org/2024/05/16/1250250249/spacex-repair-hubble-space-telescope-nasa-foia\">found it</a> too risky, and perhaps premature.</p>,\n",
              " <p class=\"ArticleParagraph_root__4mszW\" data-flatplan-paragraph=\"true\">Despite those concerns, Grunsfeld told me he was optimistic about the nomination. “For the last 10 years, NASA’s science missions keep getting raided to pay for overruns in the human-spaceflight program,” he said. The fact that Isaacman was so interested in extending Hubble’s lifespan struck Grunsfeld as a good sign for future science missions at the agency. He did note that Isaacman seems to have no experience managing an organization with a $25 billion budget and 18,000 employees, but when I pointed out that politicians with even less management experience had successfully run NASA in very recent memory, Grunsfeld agreed. “The pick could have been a lot worse,” he said.</p>,\n",
              " <p class=\"ArticleParagraph_root__4mszW\" data-flatplan-paragraph=\"true\">If Isaacman does end up in government, he will need to drive NASA hard if he wants to keep his new boss happy. Trump has <a data-event-element=\"inline link\" href=\"https://www.bbc.com/news/world-us-canada-48842428\">a fetish</a> for nationalist spectacle. During his first term, he vowed to return Americans to the moon. The expected date of this triumph has been <a data-event-element=\"inline link\" href=\"https://www.nasa.gov/general/faq-nasas-artemis-campaign-and-recent-updates/\">pushed back</a> several times, but Trump will no doubt want to see it happen while he’s still in office, especially now that China is gearing up for its own lunar missions.</p>,\n",
              " <p class=\"ArticleParagraph_root__4mszW\" data-flatplan-paragraph=\"true\">If confirmed, Isaacman would have to balance this new space race against NASA’s other priorities, including its climate-science program. Trump previously tried to deprioritize the sort of missions that would monitor glacial melt and sea-level rise, but he was largely foiled by Congress. Isaacman’s views on climate change remain somewhat <a data-event-element=\"inline link\" href=\"https://www.eenews.net/articles/what-trumps-moderate-nasa-pick-means-for-climate-science/\">mysterious</a>, and so we will have to wait to learn his inclinations, and whether those inclinations even matter much if he’s working in service of a denialist president.</p>,\n",
              " <p class=\"ArticleParagraph_root__4mszW\" data-flatplan-paragraph=\"true\">The most delicate task before Isaacman might be to figure out exactly whom he answers to, especially if Trump and Musk have a falling out at some future date. Isaacman clearly wants to be part of the larger enterprise of space exploration for a long time to come, but Trump is scheduled to be in office only until 2029. Musk doesn’t have term limits; he will likely be the largest provider of launch services long after that. If anything, this pick only confirms that Musk, rather than any government official, is now the big boss in space. Isaacman will know that going in.</p>,\n",
              " <p class=\"ArticleBio_contentHeading__cmbmT\">More Stories</p>,\n",
              " <p>When a Telescope Is a National-Security Risk</p>,\n",
              " <p>On Election Night, Stare Into the Abyss</p>]"
            ]
          },
          "metadata": {},
          "execution_count": 19
        }
      ]
    },
    {
      "cell_type": "code",
      "source": [
        "article_text = \" \".join([c.text for c in content])"
      ],
      "metadata": {
        "id": "fmKbooOGclS8"
      },
      "execution_count": null,
      "outputs": []
    },
    {
      "cell_type": "code",
      "source": [
        "article_text"
      ],
      "metadata": {
        "colab": {
          "base_uri": "https://localhost:8080/",
          "height": 140
        },
        "id": "YVn_nlXBcqNz",
        "outputId": "16f1643d-b7bb-4262-9455-205b0e1dbe6b"
      },
      "execution_count": null,
      "outputs": [
        {
          "output_type": "execute_result",
          "data": {
            "text/plain": [
              "'Another billionaire space enthusiast could make his way into the Trump administration. Yesterday, President-Elect Donald Trump announced his nomination of Jared Isaacman, a 41-year-old entrepreneur, private astronaut, and pilot, as the head of NASA. The statement that went out was pretty bland. It included stock phrases—“delighted to”; “paving the way”; “demonstrated exceptional leadership”—of the type that corporations use when elevating middle managers. Reading it, I wondered whether Trump’s heart is really in this selection of a billionaire with a history of supporting Democratic candidates and committees. Maybe this was Elon Musk’s decision. Isaacman is a pal and an extreme admirer of Musk’s. “I generally try not to bother the guy,” Isaacman has said, when asked about their relationship. “He’s literally thinking all the time about solving the world’s problems.” In some ways, Isaacman is Musk’s Mini-Me. Both men made their fortune, in part, from payment-processing companies. Both used their wealth to pursue their boyhood dreams of spaceflight: Musk created SpaceX; Isaacman began in the lower atmosphere, by buying up the world’s largest commercial fleet of ex-military aircraft. In 2021, Isaacman treated himself to an entire SpaceX mission, which allowed him to see the Earth from space. Earlier this year, he again hired SpaceX to fire him into orbit to conduct the first private spacewalk. If Isaacman is confirmed by the Senate and takes the reins at NASA, he will have leveled up from being a small, albeit highly visible, purchaser of SpaceX’s services to the company’s largest customer. For more than a decade, NASA has been developing a costly one-and-done rocket system that can launch humans to distant destinations beyond lower Earth orbit. SpaceX recently leapfrogged the agency with the Starship system, which is meant to be not only fully reusable, but also more functional once in space. With Isaacman in charge at NASA, the agency’s inferior homegrown rocket may be more likely to get killed off, once and for all—which means that more federal dollars may soon be flowing into SpaceX’s coffers. Read: The scariest spacewalk in 50 years Yesterday, after the nomination was announced, I reached out to John Grunsfeld, who served as NASA’s chief scientist during the George W. Bush administration, and later led the agency’s science directorate under Barack Obama. Grunsfeld has been critical of Isaacman in the past. In 2022, Isaacman began to lobby for a private mission—presumably with himself in command—to service the Hubble Space Telescope, thereby extending its life. Grunsfeld, a former astronaut who was the principal repairman on three of NASA’s previous Hubble-servicing missions, was part of the group who reviewed Isaacman’s proposal. Like others at the agency, he found it too risky, and perhaps premature. Despite those concerns, Grunsfeld told me he was optimistic about the nomination. “For the last 10 years, NASA’s science missions keep getting raided to pay for overruns in the human-spaceflight program,” he said. The fact that Isaacman was so interested in extending Hubble’s lifespan struck Grunsfeld as a good sign for future science missions at the agency. He did note that Isaacman seems to have no experience managing an organization with a $25 billion budget and 18,000 employees, but when I pointed out that politicians with even less management experience had successfully run NASA in very recent memory, Grunsfeld agreed. “The pick could have been a lot worse,” he said. If Isaacman does end up in government, he will need to drive NASA hard if he wants to keep his new boss happy. Trump has a fetish for nationalist spectacle. During his first term, he vowed to return Americans to the moon. The expected date of this triumph has been pushed back several times, but Trump will no doubt want to see it happen while he’s still in office, especially now that China is gearing up for its own lunar missions. If confirmed, Isaacman would have to balance this new space race against NASA’s other priorities, including its climate-science program. Trump previously tried to deprioritize the sort of missions that would monitor glacial melt and sea-level rise, but he was largely foiled by Congress. Isaacman’s views on climate change remain somewhat mysterious, and so we will have to wait to learn his inclinations, and whether those inclinations even matter much if he’s working in service of a denialist president. The most delicate task before Isaacman might be to figure out exactly whom he answers to, especially if Trump and Musk have a falling out at some future date. Isaacman clearly wants to be part of the larger enterprise of space exploration for a long time to come, but Trump is scheduled to be in office only until 2029. Musk doesn’t have term limits; he will likely be the largest provider of launch services long after that. If anything, this pick only confirms that Musk, rather than any government official, is now the big boss in space. Isaacman will know that going in. More Stories When a Telescope Is a National-Security Risk On Election Night, Stare Into the Abyss'"
            ],
            "application/vnd.google.colaboratory.intrinsic+json": {
              "type": "string"
            }
          },
          "metadata": {},
          "execution_count": 22
        }
      ]
    },
    {
      "cell_type": "code",
      "source": [
        "prompt =f\"\"\"You are an expert financial analyst.\n",
        "Based on the text in the article below,\n",
        "return a list of stock tickers that are directly\n",
        "and indirectly related to the article.\n",
        "\n",
        "<article_text>\n",
        "  {article_text}\n",
        "</article_text>\n",
        "\n",
        "Return your response in JSON format like this:\n",
        "\n",
        "\n",
        "{{\n",
        "  \"response\": [\n",
        "    {{\n",
        "      \"ticker\": \"AAPL\",\n",
        "      \"explanation\": \"explanation of why this ticker is relevant to the article\"\n",
        "      \"sentiment\": <number from 0-10 on how positive or negative the article is for the company>\n",
        "    }},\n",
        "    {{\n",
        "      \"ticker\": \"TSLA\",\n",
        "      \"explanation\": \"explanation of why this ticker is relevant to the article\"\n",
        "      \"sentiment\": <number from 0-10 on how positive or negative the article is for the company>\n",
        "    }}\n",
        "  ]\n",
        "}}\n",
        "\n",
        "Return a list of 10 tickers along with their explanations.\n",
        "\n",
        "\"\"\"\n",
        "\n",
        "'''\n",
        "llm_response = client.chat.completions.create(\n",
        "    model=\"llama-3.1-70b-versatile\",\n",
        "    messages=[\n",
        "        {\"role\": \"user\", \"content\": prompt}\n",
        "    ],\n",
        "    response_format={\"type\":\"json_object\"}\n",
        ")\n",
        "\n",
        "response = llm_response.choices[0].message.content\n",
        "'''\n"
      ],
      "metadata": {
        "id": "Z6OJf4nScqQD"
      },
      "execution_count": null,
      "outputs": []
    },
    {
      "cell_type": "code",
      "source": [
        "prompt = f\"\"\"You are an expert financial analyst.\n",
        "Based on the text in the article below,\n",
        "return a list of stock tickers that are directly\n",
        "and indirectly related to the article.\n",
        "\n",
        "<article_text>\n",
        "  {article_text}\n",
        "</article_text>\n",
        "\n",
        "Return your response in JSON format like this:\n",
        "\n",
        "\n",
        "{{\n",
        "  \"response\": [\n",
        "    {{\n",
        "      \"ticker\": \"AAPL\",\n",
        "      \"explanation\": \"explanation of why this ticker is relevant to the article\",\n",
        "      \"sentiment\": <number from 0-10 on how positive or negative the article is for the company>,\n",
        "      \"relevance\": <number from 0-10 on how relevant the article is to the company>,\n",
        "      \"sector\": \"Technology\",\n",
        "      \"industry\": \"Consumer Electronics\"\n",
        "    }},\n",
        "    {{\n",
        "      \"ticker\": \"TSLA\",\n",
        "      \"explanation\": \"explanation of why this ticker is relevant to the article\",\n",
        "      \"sentiment\": <number from 0-10 on how positive or negative the article is for the company>,\n",
        "      \"relevance\": <number from 0-10 on how relevant the article is to the company>,\n",
        "      \"sector\": \"Consumer Discretionary\",\n",
        "      \"industry\": \"Auto Manufacturers\"\n",
        "    }}\n",
        "  ]\n",
        "}}\n",
        "\n",
        "Return a list of 10 tickers along with their explanations and other properties.\n",
        "\"\"\"\n",
        "\n",
        "\n",
        "llm_response = client.chat.completions.create(\n",
        "    model=\"llama-3.1-70b-versatile\",\n",
        "    messages=[\n",
        "        {\"role\": \"user\", \"content\": prompt}\n",
        "    ],\n",
        "    response_format={\"type\":\"json_object\"}\n",
        ")\n",
        "\n",
        "response = llm_response.choices[0].message.content"
      ],
      "metadata": {
        "id": "c0NfJwuhlJMk"
      },
      "execution_count": null,
      "outputs": []
    },
    {
      "cell_type": "code",
      "source": [
        "print(response)"
      ],
      "metadata": {
        "colab": {
          "base_uri": "https://localhost:8080/"
        },
        "id": "nhqhRhcFcqS0",
        "outputId": "d3f3551b-9365-4e96-cd9b-784cd58f6a43"
      },
      "execution_count": null,
      "outputs": [
        {
          "output_type": "stream",
          "name": "stdout",
          "text": [
            "{\n",
            "   \"response\":[\n",
            "      {\n",
            "         \"ticker\":\"SPCE\",\n",
            "         \"explanation\":\"Virgin Galactic competes with SpaceX in the private space tourism and space exploration market, and Isaacman's nomination as NASA head could impact the competitive landscape.\",\n",
            "         \"sentiment\":3,\n",
            "         \"relevance\":7,\n",
            "         \"sector\":\"Industrials\",\n",
            "         \"industry\":\"Aerospace & Defense\"\n",
            "      },\n",
            "      {\n",
            "         \"ticker\":\"TSLA\",\n",
            "         \"explanation\":\"Elon Musk is the CEO of Tesla and the founder of SpaceX, and Isaacman's nomination could benefit SpaceX, which would positively impact Musk's overall business interests.\",\n",
            "         \"sentiment\":8,\n",
            "         \"relevance\":8,\n",
            "         \"sector\":\"Consumer Discretionary\",\n",
            "         \"industry\":\"Auto Manufacturers\"\n",
            "      },\n",
            "      {\n",
            "         \"ticker\":\"LMT\",\n",
            "         \"explanation\":\"Lockheed Martin is a major player in the aerospace and defense industry and competes with SpaceX for NASA contracts.\",\n",
            "         \"sentiment\":4,\n",
            "         \"relevance\":6,\n",
            "         \"sector\":\"Industrials\",\n",
            "         \"industry\":\"Aerospace & Defense\"\n",
            "      },\n",
            "      {\n",
            "         \"ticker\":\"BA\",\n",
            "         \"explanation\":\"Boeing is another major player in the aerospace and defense industry and has collaborated with NASA on several projects, including the Space Launch System (SLS) rocket.\",\n",
            "         \"sentiment\":3,\n",
            "         \"relevance\":5,\n",
            "         \"sector\":\"Industrials\",\n",
            "         \"industry\":\"Aerospace & Defense\"\n",
            "      },\n",
            "      {\n",
            "         \"ticker\":\"GRMN\",\n",
            "         \"explanation\":\"Garmin is a technology company that provides navigation systems, which could be relevant to space exploration and satellite technology.\",\n",
            "         \"sentiment\":2,\n",
            "         \"relevance\":4,\n",
            "         \"sector\":\"Technology\",\n",
            "         \"industry\":\"Scientific & Technical Instruments\"\n",
            "      },\n",
            "      {\n",
            "         \"ticker\":\"NOAA\",\n",
            "         \"explanation\":\"Northrop Grumman is a major player in the aerospace and defense industry and collaborates with NASA on various projects, including the Artemis program.\",\n",
            "         \"sentiment\":5,\n",
            "         \"relevance\":7,\n",
            "         \"sector\":\"Industrials\",\n",
            "         \"industry\":\"Aerospace & Defense\"\n",
            "      },\n",
            "      {\n",
            "         \"ticker\":\"MAXR\",\n",
            "         \"explanation\":\"Maxar Technologies is a provider of satellite imagery and geospatial data, which could be relevant to NASA's satellite and space exploration programs.\",\n",
            "         \"sentiment\":4,\n",
            "         \"relevance\":5,\n",
            "         \"sector\":\"Industrials\",\n",
            "         \"industry\":\"Aerospace & Defense\"\n",
            "      },\n",
            "      {\n",
            "         \"ticker\":\"I\",\n",
            "         \"explanation\":\"iShares U.S. Aerospace & Defense ETF is an exchange-traded fund that tracks the performance of the aerospace and defense industry, which could be impacted by Isaacman's nomination.\",\n",
            "         \"sentiment\":6,\n",
            "         \"relevance\":6,\n",
            "         \"sector\":\"Industrials\",\n",
            "         \"industry\":\"Aerospace & Defense\"\n",
            "      },\n",
            "      {\n",
            "         \"ticker\":\"XTN\",\n",
            "         \"explanation\":\"SPDR S&P Transportation ETF is an exchange-traded fund that tracks the performance of the transportation sector, which includes aerospace and defense companies.\",\n",
            "         \"sentiment\":5,\n",
            "         \"relevance\":5,\n",
            "         \"sector\":\"Industrials\",\n",
            "         \"industry\":\"Transportation\"\n",
            "      },\n",
            "      {\n",
            "         \"ticker\":\"ARKX\",\n",
            "         \"explanation\":\"ARK Space Exploration & Innovation ETF is an exchange-traded fund that invests in companies involved in space exploration and innovation, which could be impacted by Isaacman's nomination.\",\n",
            "         \"sentiment\":8,\n",
            "         \"relevance\":8,\n",
            "         \"sector\":\"Technology\",\n",
            "         \"industry\":\"ETFs\"\n",
            "      }\n",
            "   ]\n",
            "}\n"
          ]
        }
      ]
    },
    {
      "cell_type": "code",
      "source": [],
      "metadata": {
        "id": "g-ozVeT7cqVW"
      },
      "execution_count": null,
      "outputs": []
    },
    {
      "cell_type": "code",
      "source": [],
      "metadata": {
        "id": "pJ76__y4cqXT"
      },
      "execution_count": null,
      "outputs": []
    }
  ]
}